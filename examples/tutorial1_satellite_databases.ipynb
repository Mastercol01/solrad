{
 "cells": [
  {
   "cell_type": "markdown",
   "metadata": {},
   "source": [
    "# **SOLRAD TUTORIAL 1 : ACQUISITION AND PROCESSING OF SATELLITE DATA**\n",
    "\n",
    "In this tutorial we shall acquire and process the necessary satellite data, that is required to perform \n",
    "later calculations in the computation of radiometric quantities. Specifically, we shall\n",
    "request information from the Climate Data Store (CDS) for the following databases\n",
    "of atmospheric quantities:\n",
    "\n",
    "### [1] (OPTIONAL)\n",
    "Copernicus Climate Change Service, Climate Data Store, (2020): \n",
    "Ozone monthly gridded data from 1970 to present derived from satellite observations.\n",
    "Copernicus Climate Change Service (C3S) Climate Data Store (CDS). DOI: 10.24381/cds.4ebfe4eb \n",
    "\n",
    "\n",
    "\n",
    "### [2] (OPTIONAL)\n",
    "Preusker, R., El Kassar, R. (2022): Monthly total column water vapour over \n",
    "land and ocean from 2002 to 2012 derived from satellite observation. Copernicus\n",
    "Climate Change Service (C3S) Climate Data Store (CDS). DOI: 10.24381/cds.8e0e4724 \n",
    "\n",
    "\n",
    "### [3] (REQUIRED)\n",
    "Copernicus Climate Change Service, Climate Data Store, (2019): Aerosol\n",
    "properties gridded data from 1995 to present derived from satellite observation. \n",
    "Copernicus Climate Change Service (C3S) Climate Data Store (CDS). DOI: 10.24381/cds.239d815c \n",
    "\n",
    "Databases [1] and [2] are strictly not required (as other methods exist for estimating the quantities they \n",
    "provide), though their use is recommended. the use of database in [3], however, is required.\n",
    "\n",
    "\n",
    "\n",
    "\n",
    "\n",
    "## **THE CLIMATE DATA STORE**\n",
    "\n",
    "\"The Copernicus - Climate Data Store (CDS) is an online open and free service\n",
    "that allows users to browse and access a wide range of climate datasets via a \n",
    "searchable catalogue. It also allows users to build their own applications,\n",
    "maps and graphs.\"\n",
    "\n",
    "1) CDS webpage at:\n",
    "https://cds.climate.copernicus.eu/cdsapp#!/home\n",
    "\n",
    "2) More info about its API, at:\n",
    "https://cds.climate.copernicus.eu/api-how-to\n",
    "\n",
    "3) Useful tutorial on how to use the API, at\n",
    "https://youtu.be/cVtiVTSVdlo\n",
    "\n",
    "\n",
    "**NOTE:**\n",
    "As described by the links in 2. and 3., it is necessary to have a CDS \n",
    "account (and be currently logged in) account in order to be able to use\n",
    "the API. Furtheremore, the user's key and the API website link should be \n",
    "stored in a place, recognisable by the system being used. We recommend \n",
    "watching the video tutorial linked in 3., as it is a good explanation on \n",
    "what steps need to be followed in order to work with cdsapi."
   ]
  },
  {
   "cell_type": "markdown",
   "metadata": {},
   "source": [
    "### IMPORTAION OF LIBRARIES"
   ]
  },
  {
   "cell_type": "code",
   "execution_count": 7,
   "metadata": {},
   "outputs": [],
   "source": [
    "import os\n",
    "import solrad\n",
    "import numpy as np\n",
    "import matplotlib.pyplot as plt\n",
    "import solrad.atmosphere.ozone_column as oz\n",
    "import solrad.atmosphere.water_column as wat\n",
    "import solrad.atmosphere.aod_550nm as aod550"
   ]
  },
  {
   "cell_type": "markdown",
   "metadata": {},
   "source": [
    "### DEFINITION DEFAULT PATH CONSTANTS"
   ]
  },
  {
   "cell_type": "code",
   "execution_count": 8,
   "metadata": {},
   "outputs": [],
   "source": [
    "DATA_PATH = os.path.join(os.path.dirname(os.path.dirname(solrad.__path__[0])), \"data\")\n",
    "OZONE_DATABASE_PATH = os.path.join(DATA_PATH, \"ozone\")\n",
    "WATER_DATABASE_PATH = os.path.join(DATA_PATH, \"water\")\n",
    "AOD_550NM_DATABASE_PATH = os.path.join(DATA_PATH, \"aod_550nm\")"
   ]
  },
  {
   "cell_type": "markdown",
   "metadata": {},
   "source": [
    "### DEFINITION DEFAULT PATH VARIABLES\n",
    "\n",
    "Define the directory where the data files for each atmospheric quantity will be stored; this must be an empty folder somewhere\n",
    "in your system. You must replace the value of the paths as they appear below to the ones you will actually use for your system or set them to None.\n",
    "We recommend that you don't leave the default paths as they are (these are intended for developers). Finally, setting a path to None will mean that\n",
    "the files for that quantity won't neither be downloaded nor processed."
   ]
  },
  {
   "cell_type": "code",
   "execution_count": 9,
   "metadata": {},
   "outputs": [],
   "source": [
    "# (OPTIONAL)\n",
    "ozone_database_path = OZONE_DATABASE_PATH\n",
    "\n",
    "# (OPTIONAL)\n",
    "water_database_path = WATER_DATABASE_PATH\n",
    "\n",
    "# (REQUIRED)\n",
    "aod_550nm_database_path = AOD_550NM_DATABASE_PATH"
   ]
  },
  {
   "cell_type": "markdown",
   "metadata": {},
   "source": [
    "### RETRIEVE DATA"
   ]
  },
  {
   "cell_type": "code",
   "execution_count": null,
   "metadata": {},
   "outputs": [],
   "source": [
    "# We retrieve the database files for each solicited atmospheric quantity.\n",
    "# Read the documentation to learn more ab\n",
    "\n",
    "if ozone_database_path is not None:\n",
    "    years = [\"2019\", \"2020\", \"2021\"]\n",
    "    oz.get_CDS_ozone_column_data(path = ozone_database_path,\n",
    "                                 year = years,\n",
    "                                 month = None,\n",
    "                                 file_format = \"numpy\")\n",
    "    \n",
    "if water_database_path is not None:\n",
    "    years = [\"2009\", \"2010\", \"2011\"]\n",
    "    wat.get_CDS_water_column_data(path = water_database_path,\n",
    "                                  year = years,\n",
    "                                  month = None,\n",
    "                                  file_format = \"numpy\")\n",
    "    \n",
    "if aod_550nm_database_path is not None:\n",
    "    years = [\"2020\", \"2021\", \"2022\"]\n",
    "    aod550.get_CDS_aod_550nm_data(path = aod_550nm_database_path,\n",
    "                                  year = years,\n",
    "                                  month = None,\n",
    "                                  file_format = \"numpy\")"
   ]
  },
  {
   "cell_type": "markdown",
   "metadata": {},
   "source": [
    "### FILL DATA NaNs\n",
    "\n",
    "We interpolate and fill the NaNs in the data for all required files.\n",
    "(Only water column and aod_550nm data require this treatment.) This step\n",
    "may actually take quite a while.  "
   ]
  },
  {
   "cell_type": "code",
   "execution_count": null,
   "metadata": {},
   "outputs": [],
   "source": [
    "if water_database_path is not None:\n",
    "    wat.fill_CDS_water_column_data_nans(path = water_database_path, \n",
    "                                        iterations = 20000,\n",
    "                                        show_progress = True,\n",
    "                                        replace = True)\n",
    "    \n",
    "if aod_550nm_database_path is not None:\n",
    "    aod550.fill_CDS_aod_550nm_data_nans(path = aod_550nm_database_path, \n",
    "                                        iterations = 20000,\n",
    "                                        show_progress = True,\n",
    "                                        replace = True)"
   ]
  },
  {
   "cell_type": "markdown",
   "metadata": {},
   "source": [
    "### PLOT PROCESSED DATA AND RAW DATA (IF AVAILABLE)"
   ]
  },
  {
   "cell_type": "code",
   "execution_count": null,
   "metadata": {},
   "outputs": [],
   "source": [
    "for var in [\"ozone\", \"water\", \"aod550\"]:\n",
    "\n",
    "    if var == \"ozone\":\n",
    "        if ozone_database_path is None:\n",
    "            continue\n",
    "        else:\n",
    "            res = oz.process_CDS_ozone_column_data(ozone_database_path, percentile = 0.5, interp_method = \"linear\")\n",
    "            year, month = 2021, 5\n",
    "            avg_data = res[\"avg_data\"][(month)]\n",
    "            percentile_data = res[\"percentile_data\"][(month)]\n",
    "            lon, lat = res[\"longitude\"], res[\"latitude\"]\n",
    "            Lon, Lat = np.meshgrid(lon, lat)\n",
    "            label = 'ozone column [atm-cm]'\n",
    "\n",
    "    elif var == \"water\":\n",
    "        if water_database_path is None:\n",
    "            continue\n",
    "        else:\n",
    "            res = wat.process_CDS_water_column_data(water_database_path, percentile = 0.5, interp_method = \"linear\")\n",
    "            year, month = 2011, 5\n",
    "            avg_data = res[\"avg_data\"][(month)]\n",
    "            percentile_data = res[\"percentile_data\"][(month)]\n",
    "            lon, lat = res[\"longitude\"], res[\"latitude\"]\n",
    "            Lon, Lat = np.meshgrid(lon, lat)   \n",
    "            label = 'water column [atm-cm]'         \n",
    "\n",
    "    elif var == \"aod550\":\n",
    "        if aod_550nm_database_path is None:\n",
    "            continue\n",
    "        else:\n",
    "            res = aod550.process_CDS_aod_550nm_data(aod_550nm_database_path, percentile = 0.5, interp_method = \"linear\")\n",
    "            year, month = 2022, 5\n",
    "            avg_data = res[\"avg_data\"][(month)]\n",
    "            percentile_data = res[\"percentile_data\"][(month)]\n",
    "            lon, lat = res[\"longitude\"], res[\"latitude\"]\n",
    "            Lon, Lat = np.meshgrid(lon, lat) \n",
    "            label = 'AOD 550nm [-]'  \n",
    "\n",
    "\n",
    "    fig = plt.figure(figsize=(15,10))\n",
    "    plt.contourf(Lon, Lat, avg_data, levels = np.linspace(avg_data.min(),avg_data.max(), 100))\n",
    "    cbar = plt.colorbar()\n",
    "    plt.title(f\"avg_data @ month = {month}\")\n",
    "    plt.ylabel(\"Latitude [°]\")\n",
    "    plt.xlabel(\"Longitude [°]\")\n",
    "    cbar.set_label(label)\n",
    "    plt.show()\n",
    "\n",
    "    fig = plt.figure(figsize=(15,10))\n",
    "    plt.contourf(Lon, Lat, percentile_data, levels = np.linspace(percentile_data.min(),percentile_data.max(), 100))\n",
    "    cbar = plt.colorbar()\n",
    "    plt.title(f\"percentile_data @ month = {month}\")\n",
    "    plt.ylabel(\"Latitude [°]\")\n",
    "    plt.xlabel(\"Longitude [°]\")\n",
    "    cbar.set_label(label)\n",
    "    plt.show()\n",
    "\n",
    "    try:\n",
    "        raw_data = res[\"raw_data\"][(year, month)]\n",
    "        fig = plt.figure(figsize=(15,10))\n",
    "        plt.contourf(Lon, Lat, raw_data, levels = np.linspace(np.nanmin(raw_data), np.nanmax(raw_data), 100) )\n",
    "        cbar = plt.colorbar()\n",
    "        plt.title(f\"raw_data @ year = {year}, month = {month}\")\n",
    "        plt.ylabel(\"Latitude [°]\")\n",
    "        plt.xlabel(\"Longitude [°]\")\n",
    "        cbar.set_label(label)\n",
    "        plt.show()\n",
    "    except KeyError:\n",
    "        pass"
   ]
  }
 ],
 "metadata": {
  "kernelspec": {
   "display_name": "solrad",
   "language": "python",
   "name": "python3"
  },
  "language_info": {
   "codemirror_mode": {
    "name": "ipython",
    "version": 3
   },
   "file_extension": ".py",
   "mimetype": "text/x-python",
   "name": "python",
   "nbconvert_exporter": "python",
   "pygments_lexer": "ipython3",
   "version": "3.8.18"
  }
 },
 "nbformat": 4,
 "nbformat_minor": 2
}
