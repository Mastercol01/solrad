{
 "cells": [
  {
   "cell_type": "markdown",
   "metadata": {},
   "source": [
    "# **SOLRAD TUTORIAL 2 : The _Site_ class and the computation of site variables**\n",
    "\n",
    "In this tutorial we shall explore the _solrad.Site.Site_ class and see how it can be used to \n",
    "compute relevant variables of a site, related to climate and geography. Doing this is a necessary\n",
    "step to prepare our simulation of solar radiation."
   ]
  },
  {
   "cell_type": "markdown",
   "metadata": {},
   "source": [
    "### IMPORTATION OF LIBRARIES"
   ]
  },
  {
   "cell_type": "code",
   "execution_count": null,
   "metadata": {},
   "outputs": [],
   "source": [
    "import os\n",
    "import solrad\n",
    "import numpy as np\n",
    "from solrad.Site import Site\n",
    "import solrad.auxiliary_funcs as aux"
   ]
  },
  {
   "cell_type": "markdown",
   "metadata": {},
   "source": [
    "### DEFINITION DEFAULT PATH VARIABLES\n",
    "\n",
    "Define the directory where the data files for each atmospheric quantity are stored (see tutorial 1). You must replace the value of the paths as they appear below to the ones you actually use for your system. We recommend that you don't leave the default paths as they are (these are intended for developers). "
   ]
  },
  {
   "cell_type": "code",
   "execution_count": null,
   "metadata": {},
   "outputs": [],
   "source": [
    "DATA_PATH = os.path.join(os.path.dirname(os.path.dirname(solrad.__path__[0])), \"data\")\n",
    "OZONE_DATABASE_PATH = os.path.join(DATA_PATH, \"ozone\")\n",
    "WATER_DATABASE_PATH = os.path.join(DATA_PATH, \"water\")\n",
    "AOD_550NM_DATABASE_PATH = os.path.join(DATA_PATH, \"aod_550nm\")"
   ]
  },
  {
   "cell_type": "markdown",
   "metadata": {},
   "source": [
    "### 1) INITIALIZATION OF SITE OBJECT\n",
    "\n",
    "We shall first initialize an instance of the class _Site_. _Site_ is the main class used for modelling the \n",
    "variales of a site related to geography and climate. In order to initialize a Site object we require some\n",
    "information about the geographical location that we are tying to simulate. For this example, we'll use \n",
    "the city of Medellín, Colombia. As a point of reference. "
   ]
  },
  {
   "cell_type": "code",
   "execution_count": null,
   "metadata": {},
   "outputs": [],
   "source": [
    "MEDELLIN_LATITUDE      = 6.230833    # (degrees)\n",
    "MEDELLIN_LONGITUDE     = -75.590553  # (degrees)\n",
    "MEDELLIN_ALTITUDE      = 1500        # (meters)\n",
    "MEDELLIN_TIMEZONE      ='-05:00'     # (GMT-5)\n",
    "MEDELLIN_AEROSOL_MODEL = \"Urban\"     # (Urban 'Shettel and Fenn' aerosol model)\n",
    "\n",
    "Site_obj = Site(latitude  = MEDELLIN_LATITUDE,\n",
    "                longitude = MEDELLIN_LONGITUDE,\n",
    "                altitude  = MEDELLIN_ALTITUDE,\n",
    "                tz        = MEDELLIN_TIMEZONE,\n",
    "                name      = 'Medellín',\n",
    "                SF_model  = MEDELLIN_AEROSOL_MODEL)"
   ]
  },
  {
   "cell_type": "markdown",
   "metadata": {},
   "source": [
    "### 2) TERRAIN AND HORIZON\n",
    "\n",
    "We can set set, load, reset and plot the horizon profile of the simulation site."
   ]
  },
  {
   "cell_type": "code",
   "execution_count": null,
   "metadata": {},
   "outputs": [],
   "source": [
    "# The horizon by default is set to 0 degrees everywhere for the site object.\n",
    "# However, as a user, you can define your own custom horizon profile and plot it:\n",
    "azimuths   = np.linspace(0, 360, 361)            #(degrees)\n",
    "elevations = 10*np.sin(np.deg2rad(azimuths))**2  #(degrees)\n",
    "Site_obj.set_horizon_from_arrays(azimuth=azimuths, elevation=elevations)\n",
    "Site_obj.plot_horizon(azimuth=azimuths)\n",
    "\n",
    "# You can also go back to the default horizon settings by restting the horizon profile.\n",
    "Site_obj.reset_horizon()\n",
    "Site_obj.plot_horizon(azimuth=azimuths)\n",
    "\n",
    "# Finally, you can let Site_obj set the horizon profile for you. This step\n",
    "# uses pvgis' API horizon profile from their geographical database.\n",
    "Site_obj.set_horizon_from_pvgis()\n",
    "Site_obj.plot_horizon(azimuth=azimuths)"
   ]
  },
  {
   "cell_type": "markdown",
   "metadata": {},
   "source": [
    "### 3) DEFINE SIMULATION TIME\n",
    "\n",
    "Next we would like to define the period of time for which the simulation is to be run.\n",
    "For this example, we'd like to simulate the whole month of January of 2023. Hence, we set our start time \n",
    "to be: Jan 1st 2023 at midnight, and our end time to be: Jan 31st 2023 6 seconds before midnight.\n",
    "We would also like that the time data generated have a sample frequency of 5 minutes.\n",
    "Finally, since our end goal with this library is simulating sun radiation, there's not point \n",
    "in keeping the time data for which the sun is not out.Hence, we filter the time data such that hours \n",
    "before sunrise and after sunset are removed. "
   ]
  },
  {
   "cell_type": "code",
   "execution_count": null,
   "metadata": {},
   "outputs": [],
   "source": [
    "simulation_start_time = \"2023-1-1 00:00:00\"\n",
    "simulation_end_time   = \"2023-1-31 23:59:59.9\"\n",
    "simulation_time_frequency  = \"5min\"\n",
    "minimum_hour_minute_second_allowed = \"sunrise\"\n",
    "maximum_hour_minute_second_allowed = \"sunset\"\n",
    "\n",
    "Site_obj.define_simulation_time_data(start_time = simulation_start_time,\n",
    "                                     end_time   = simulation_end_time, \n",
    "                                     freq       = simulation_time_frequency, \n",
    "                                     min_hms    = minimum_hour_minute_second_allowed,\n",
    "                                     max_hms    = maximum_hour_minute_second_allowed)\n",
    "\n",
    "# This command generates an attribute called 'self.simulation_time_data'.\n",
    "# It is a dict where each key is a date of simulation:\n",
    "print(Site_obj.simulation_time_data.keys())\n",
    "\n",
    "# Let's check out the contents for Jan 10th 2023:\n",
    "print(Site_obj.simulation_time_data[(2023, 1, 10)]) "
   ]
  },
  {
   "cell_type": "markdown",
   "metadata": {},
   "source": [
    "As we can see, we have a DatetimeIndex with a frequency of 5 minutes, which starts\n",
    "on the (approximate) time of sunrise and ends on the (approximate) time of sunset. \n",
    "Finally, the _self.define_simulation_time_data_ method is actually quite flexible and many different\n",
    "time intervals with other conditions can be defined. Please check the documentation if\n",
    "you want to learn more."
   ]
  },
  {
   "cell_type": "markdown",
   "metadata": {},
   "source": [
    "###    3.5) PRINCIPAL ATTRIBUTES OF _Site_obj_ \n",
    "\n",
    "After generating the _self.simulation_time_data_ attribute, other important attributes are generated.\n",
    "Namely, the _self.climate_and_air_data_, _self.sun_data_, _self.single_scattering_albedo_ and _self.aerosol_asymmetry_factor_.\n",
    "These are dicts (the same keys as _self.simulation_time_data_) containing pandas.DataFrames which hold relevant information about \n",
    "the site being modeled at each point in time. In broad terms:\n",
    "\n",
    "1) _self.climate_and_air_data_     : Contains information about the site's climate and air-related quantities.\n",
    "2) _self.sun_data_                 : Contains information about the position of the sun and relative airmass.\n",
    "3) _self.single_scattering_albedo_ : Contains information about the single scattering albedo property of aerosols for different wavelengths.\n",
    "4) _self.aerosol_asymmetry_factor_ : Contains information about the aerosol asymmetry factor property of aerosols for different wavelengths."
   ]
  },
  {
   "cell_type": "code",
   "execution_count": null,
   "metadata": {},
   "outputs": [],
   "source": [
    "# Let's see check out how each attribute looks like for a particular date (Jan 10th 2023):\n",
    "print(\"--------------------------- \")\n",
    "print(\"        DATAFRAMES          \")\n",
    "print(\"--------------------------- \")\n",
    "\n",
    "print(\"---- self.climate_and_air_data ---- \")\n",
    "print(Site_obj.climate_and_air_data[(2023, 1, 10)])\n",
    "\n",
    "print(\"---- self.sun-data ---- \")\n",
    "print(Site_obj.sun_data[(2023, 1, 10)])\n",
    "\n",
    "print(\"---- self.single_scattering_albedo ---- \")\n",
    "print(Site_obj.single_scattering_albedo[(2023, 1, 10)])\n",
    "\n",
    "print(\"---- self.aerosol_asymmetry_factor ---- \")\n",
    "print(Site_obj.aerosol_asymmetry_factor[(2023, 1, 10)])\n",
    "\n",
    "\n",
    "# Let's print the columns in each DataFrame.\n",
    "print(\"--------------------------- \")\n",
    "print(\"        COLUMNS             \")\n",
    "print(\"--------------------------- \")\n",
    "\n",
    "print(\"---- self.climate_and_air_data ---- \")\n",
    "print(Site_obj.CLIMATE_AND_AIR_DATA_COLS)\n",
    "\n",
    "print(\"---- self.sun-data ---- \")\n",
    "print(Site_obj.SUN_DATA_COLS)\n",
    "\n",
    "print(\"---- self.single_scattering_albedo ---- \")\n",
    "print(Site_obj.AEROSOL_COLS)\n",
    "\n",
    "print(\"---- self.aerosol_asymmetry_factor ---- \")\n",
    "print(Site_obj.AEROSOL_COLS)\n",
    "\n",
    "\n",
    "# And also know their meaning and units.\n",
    "print(\"--------------------------- \")\n",
    "print(\"   DESCRIPTIONS AND UNITS   \")\n",
    "print(\"--------------------------- \")\n",
    "\n",
    "print(Site_obj.variables_info[\"descriptions\"])\n",
    "print(Site_obj.variables_info[\"units\"])"
   ]
  },
  {
   "cell_type": "markdown",
   "metadata": {},
   "source": [
    "###    4) FILLING THE MAIN ATTRIBUTES OF _Site_obj_\n",
    "\n",
    "In order to perform a simulation, the data for each of Site_obj's main attributes must be provided.\n",
    "You can do this manually, if you have your own data that you'd like to use. In that case, just fill\n",
    "each of the DataFrames with it, for each date. However, the _Site_ class, already provides an arrange\n",
    "of methods that can be used for acquiring and filling all the required data as easy as possible.\n",
    "For this example, we shall follow this latter approach.\n",
    "Finally, while the execution of this tutorial should preferably be followed in the order intended, \n",
    "here it is more or less required, since many quantities require the previous computation of other quantities."
   ]
  },
  {
   "cell_type": "markdown",
   "metadata": {},
   "source": [
    "4.1) SET AND COMPUTE CLIMATE DATA"
   ]
  },
  {
   "cell_type": "code",
   "execution_count": null,
   "metadata": {},
   "outputs": [],
   "source": [
    "# Compute and fill site data related to climate.\n",
    "Site_obj.set_climate_data_from_pvgis_tmy_data(startyear=2005, endyear=2015)\n",
    "Site_obj.compute_extraterrestrial_normal_irradiance()\n",
    "Site_obj.compute_cummulative_time_integral_of_irradiances()"
   ]
  },
  {
   "cell_type": "markdown",
   "metadata": {},
   "source": [
    "4.2) COMPUTE SUN DATA"
   ]
  },
  {
   "cell_type": "code",
   "execution_count": null,
   "metadata": {},
   "outputs": [],
   "source": [
    "# Compute and fill site data related sun position and relative airmass.\n",
    "Site_obj.compute_sun_data()"
   ]
  },
  {
   "cell_type": "markdown",
   "metadata": {},
   "source": [
    "4.3) COMPUTE AIR DATA"
   ]
  },
  {
   "cell_type": "code",
   "execution_count": null,
   "metadata": {},
   "outputs": [],
   "source": [
    "# We compute and fill site data related to air quantities.\n",
    "\n",
    "# 4.31) -- ATMOSPHERIC OZONE COLUMN --\n",
    "# There are two options for computing the ozone column.\n",
    "# We can use the van heuklon model or, if we have the data\n",
    "# (see tutorial 1), we can use satellite data.\n",
    "\"\"\"\n",
    "Site_obj.compute_ozone_column_using_van_Heuklon_model()\n",
    "\"\"\"\n",
    "Site_obj.compute_ozone_column_using_satelite_data(path = OZONE_DATABASE_PATH)\n",
    "\n",
    "# 4.32) -- ATMOSPHERIC WATER COLUMN --\n",
    "# There are two options for computing the water column.\n",
    "# We can use the gueymard model or, if we have the data\n",
    "# (see tutorial 1), we can use satellite data.\n",
    "\"\"\"\n",
    "Site_obj.compute_water_column_using_gueymard94_model()\n",
    "\"\"\"\n",
    "Site_obj.compute_water_column_using_satelite_data(path = WATER_DATABASE_PATH)\n",
    "\n",
    "# 4.33) -- ANGSTROM EXPONENT AT 500 nm--\n",
    "Site_obj.compute_angstrom_turbidity_exponent_500nm_using_SF_model()\n",
    "\n",
    "# 4.34) -- AERSOL OPTICAL DEPTH AT 500 nm --\n",
    "# For this step we do have to previously set up\n",
    "# # the satellite data we need to use (see tutorial 1).\n",
    "Site_obj.compute_aod_500nm_using_satelite_data(path = AOD_550NM_DATABASE_PATH)"
   ]
  },
  {
   "cell_type": "markdown",
   "metadata": {},
   "source": [
    "4.4) COMPUTE AEROSOL PROPERTIES"
   ]
  },
  {
   "cell_type": "code",
   "execution_count": null,
   "metadata": {},
   "outputs": [],
   "source": [
    "Site_obj.compute_single_scattering_albedo_using_SF_model()\n",
    "Site_obj.compute_aerosol_asymmetry_factor_using_SF_model()\n",
    "Site_obj.compute_spectrally_averaged_aerosol_asymmetry_factor()"
   ]
  },
  {
   "cell_type": "markdown",
   "metadata": {},
   "source": [
    "### 5) VISUALIZE AND MANIPULATE DATA\n",
    "\n",
    "We can very easily plot data from the main attributes and interpolated if need be."
   ]
  },
  {
   "cell_type": "code",
   "execution_count": null,
   "metadata": {},
   "outputs": [],
   "source": [
    "\n",
    "# -- PLOT DATA --\n",
    "\n",
    "# Normal direct irradiance.\n",
    "Site_obj.plot_data(col    = \"Gb(n)\",\n",
    "                   years  = None, \n",
    "                   months = None, \n",
    "                   days   = None, \n",
    "                   hours  = [6.5, 17.5],\n",
    "                   mode   = 2, \n",
    "                   interp_method = \"linear\", \n",
    "                   figsize = (16, 12))\n",
    "\n",
    "# Temperature.\n",
    "Site_obj.plot_data(col = \"T2m\",\n",
    "                years = None, \n",
    "                months = None, \n",
    "                days   = None, \n",
    "                hours  = [6.5, 17.5],\n",
    "                mode   = 2, \n",
    "                interp_method = \"linear\", \n",
    "                figsize = (16, 12))\n",
    "\n",
    "# Humidity.\n",
    "Site_obj.plot_data(col = \"RH\",\n",
    "                   years = None, \n",
    "                   months = None, \n",
    "                   days   = None, \n",
    "                   hours  = [6.5, 17.5],\n",
    "                   mode   = 2, \n",
    "                   interp_method = \"linear\", \n",
    "                   figsize = (16, 12))\n",
    "\n",
    "# ANGSTROM EXPONENT AT 500 nm\n",
    "Site_obj.plot_data(col = \"alpha_500nm\",\n",
    "                   years = None, \n",
    "                   months = None, \n",
    "                   days   = None, \n",
    "                   hours  = [6.5, 17.5],\n",
    "                   mode   = 2, \n",
    "                   interp_method = \"linear\", \n",
    "                   figsize = (16, 12))\n",
    "\n",
    "\n",
    "# -- INTERPOLATE DATA --\n",
    "\n",
    "# Interpolate temperature data.\n",
    "interpolated_data =\\\n",
    "Site_obj.time_interpolate_variable(col   = \"T2m\",\n",
    "                                   year  = 2023,\n",
    "                                   month = 1,\n",
    "                                   day   = 1, \n",
    "                                   new_hms_float = np.linspace(6.5, 17.5, 100),\n",
    "                                   interp_method = \"linear\")\n",
    "\n",
    "print(interpolated_data)"
   ]
  },
  {
   "cell_type": "markdown",
   "metadata": {},
   "source": [
    "### 6) SAVE Site_obj\n",
    "You can easily save the object as a pickle format for later use."
   ]
  },
  {
   "cell_type": "code",
   "execution_count": null,
   "metadata": {},
   "outputs": [],
   "source": [
    "# You must change this path to hwere you want the pickle obj to be stored. Don't leave as is.\n",
    "EXAMPLES_PATH = os.path.join(os.path.dirname(solrad.__path__[0]), \"examples\")\n",
    "Site_obj_path = os.path.join(EXAMPLES_PATH, \"example_Site_obj.pkl\")\n",
    "aux.save_obj_with_pickle(Site_obj, path = Site_obj_path)"
   ]
  }
 ],
 "metadata": {
  "language_info": {
   "name": "python"
  }
 },
 "nbformat": 4,
 "nbformat_minor": 2
}
